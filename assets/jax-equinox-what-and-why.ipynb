{
    "cells": [
        {
            "cell_type": "markdown",
            "metadata": {
                "id": "fkXXNhwtSBEG"
            },
            "source": [
                "This is meant to provide some coneptual background that can be helpful for understanding [JAX](https://jax.readthedocs.io/en/latest/beginner_guide.html) and [Equinox](https://docs.kidger.site/equinox/all-of-equinox/). I wrote it for some coworkers who were ML researchers accustomed to working with PyTorch but didn't know much about programming language theory or implementation. I hope this page will make it much easier for people like that to come up to speed with these libraries.\n",
                "\n",
                "JAX and Equinox both have good official documentation, so I encourage you to check those out after (or before) reading this.\n",
                "\n",
                "## JAX\n",
                "\n",
                "I think it's helpful to think of JAX as a domain-specific language embedded within Python rather than a Python library. Why have a domain specific language? Basically because it's very hard to get arbitrary Python code to run fast. JAX is less flexible and harder to learn than PyTorch, but in return it tends to run faster and be easier to scale.\n",
                "\n",
                "Besides the compiler that tends to make code faster, some powerful things that JAX makes easier than PyTorch are:\n",
                "* [Automatic vectorization (AKA processing batches of data)](https://jax.readthedocs.io/en/latest/automatic-vectorization.html).\n",
                "* [Automatic parallelization across multiple accelerators (GPUs)](https://jax.readthedocs.io/en/latest/sharded-computation.html).\n",
                "\n",
                "But the main thing really is the compiler, so let's get into that."
            ]
        },
        {
            "cell_type": "markdown",
            "metadata": {
                "id": "oAz8-umWKDAO"
            },
            "source": [
                "## XLA and compilation\n",
                "\n",
                "JAX stands for \"Just Autograd and XLA\". XLA is a compiler that tries to produce high-performance code for linear algebra computations.\n",
                "\n",
                "There's two main ways to convert source code into machine code that can run on a physical device:\n",
                "\n",
                "* Interpretation. The source code is translated to machine code and executed one statement at a time. This is how Python and PyTorch work.\n",
                "* Compilation. A big chunk of source code is translated to machine code once and then the machine code can be executed repeatedly. This is how C works.\n",
                "\n",
                "JIT stands for \"Just In Time\" and it refers to a strategy for compiling code only when it is first run (contrasted with compilers for languages like C that compile ahead of time and produce a binary that may never run).\n",
                "\n",
                "You use `jax.jit` to indicate you want some code to be compiled (though it will not be compiled until it is run, since it's JIT!).\n",
                "\n",
                "You don't have to use `jax.jit`, but if you're not you probably should just use PyTorch instead because jax will be slower and less flexible.\n",
                "\n",
                "Let's take a look!"
            ]
        },
        {
            "cell_type": "code",
            "execution_count": null,
            "metadata": {
                "colab": {
                    "base_uri": "https://localhost:8080/"
                },
                "id": "I_LURAIeSAS9",
                "outputId": "3d282ba4-6a67-4500-fa17-04bba0d27c56"
            },
            "outputs": [],
            "source": [
                "try:\n",
                "  import equinox as eqx\n",
                "except ModuleNotFoundError:\n",
                "  !pip install -q equinox\n",
                "  import equinox as eqx\n",
                "\n",
                "import jax\n",
                "import jax.numpy as jnp"
            ]
        },
        {
            "cell_type": "code",
            "execution_count": null,
            "metadata": {
                "colab": {
                    "base_uri": "https://localhost:8080/"
                },
                "id": "argk9BHSK31u",
                "outputId": "4ad78056-ad9f-44ee-972c-7738166f2d34"
            },
            "outputs": [
                {
                    "name": "stdout",
                    "output_type": "stream",
                    "text": [
                        "calling my_func((Array([1., 1.], dtype=float32), Array([2., 2.], dtype=float32))) with w = 12.0\n"
                    ]
                },
                {
                    "data": {
                        "text/plain": [
                            "Array([25., 25.], dtype=float32)"
                        ]
                    },
                    "execution_count": 2,
                    "metadata": {},
                    "output_type": "execute_result"
                }
            ],
            "source": [
                "w = 12.0\n",
                "\n",
                "def my_func(x: jax.Array, y: jax.Array):\n",
                "  print(f\"calling my_func({x, y}) with w = {w}\")\n",
                "  return x + w * y\n",
                "\n",
                "my_func(jnp.ones(2,), 2*jnp.ones(2,))"
            ]
        },
        {
            "cell_type": "markdown",
            "metadata": {
                "id": "gPqacS4bMUWQ"
            },
            "source": [
                "Now let's compile it"
            ]
        },
        {
            "cell_type": "code",
            "execution_count": null,
            "metadata": {
                "colab": {
                    "base_uri": "https://localhost:8080/"
                },
                "id": "mLd7cS4ZMRqa",
                "outputId": "adc48a39-56b0-4f12-97ab-994cea8ef3bc"
            },
            "outputs": [
                {
                    "name": "stdout",
                    "output_type": "stream",
                    "text": [
                        "calling my_func((Traced<ShapedArray(float32[2])>with<DynamicJaxprTrace(level=1/0)>, Traced<ShapedArray(float32[2])>with<DynamicJaxprTrace(level=1/0)>)) with w = 12.0\n"
                    ]
                },
                {
                    "data": {
                        "text/plain": [
                            "Array([25., 25.], dtype=float32)"
                        ]
                    },
                    "execution_count": 3,
                    "metadata": {},
                    "output_type": "execute_result"
                }
            ],
            "source": [
                "my_func_jit = jax.jit(my_func)\n",
                "my_func_jit(jnp.ones(2,), 2*jnp.ones(2,))"
            ]
        },
        {
            "cell_type": "markdown",
            "metadata": {
                "id": "o1Jqh5bmNoqN"
            },
            "source": [
                "When calling `my_func_jit`, its inputs are now `Traced` rather than `Array`. This is because the JAX compiler works by first interpreting the code in regular Python mode, but replaces the array arguments with Traced objects. During tracing, all of the array operations are recorded and *only* those array operations are passed to the next level of compilation.\n",
                "\n",
                "Let's execute my_func_jit again:"
            ]
        },
        {
            "cell_type": "code",
            "execution_count": null,
            "metadata": {
                "colab": {
                    "base_uri": "https://localhost:8080/"
                },
                "id": "YVWU2isPMpIC",
                "outputId": "2551dd25-a186-457c-a7d4-8b1fc50b175b"
            },
            "outputs": [
                {
                    "data": {
                        "text/plain": [
                            "Array([25., 25.], dtype=float32)"
                        ]
                    },
                    "execution_count": 4,
                    "metadata": {},
                    "output_type": "execute_result"
                }
            ],
            "source": [
                "my_func_jit(jnp.ones(2,), 2*jnp.ones(2,))"
            ]
        },
        {
            "cell_type": "markdown",
            "metadata": {
                "id": "p5cYZvFtMjRJ"
            },
            "source": [
                "You can see that the non-array operations are not captured by the trace by noticing that the `print` statement does not execute. This is showing that my_func_jit has already been compiled and is not being recompiled (since the arguments are of the same shape and dtype)."
            ]
        },
        {
            "cell_type": "markdown",
            "metadata": {
                "id": "IIHcXaVJQgFt"
            },
            "source": [
                "## Control flow\n",
                "\n",
                "Python control flow (ifs, loops) is captured only during tracing. If you want the control flow to be part of the compiled function, you need to use `jax.lax` control flow functions instead of Python built-ins.\n",
                "\n",
                "For example this python control flow fail when being JIT compiled:"
            ]
        },
        {
            "cell_type": "code",
            "execution_count": null,
            "metadata": {
                "colab": {
                    "base_uri": "https://localhost:8080/",
                    "height": 460
                },
                "id": "RA5pOpSxQ6aI",
                "outputId": "6f4f466b-539c-4a9d-d35d-6373251edd61"
            },
            "outputs": [
                {
                    "ename": "TracerBoolConversionError",
                    "evalue": "Attempted boolean conversion of traced array with shape bool[]..\nThe error occurred while tracing the function python_control_flow at <ipython-input-9-92ad3ab87490>:1 for jit. This concrete value was not available in Python because it depends on the value of the argument x.\nSee https://jax.readthedocs.io/en/latest/errors.html#jax.errors.TracerBoolConversionError",
                    "output_type": "error",
                    "traceback": [
                        "\u001b[0;31m---------------------------------------------------------------------------\u001b[0m",
                        "\u001b[0;31mTracerBoolConversionError\u001b[0m                 Traceback (most recent call last)",
                        "\u001b[0;32m<ipython-input-9-92ad3ab87490>\u001b[0m in \u001b[0;36m<cell line: 8>\u001b[0;34m()\u001b[0m\n\u001b[1;32m      6\u001b[0m \u001b[0mpython_control_flow_jit\u001b[0m \u001b[0;34m=\u001b[0m \u001b[0mjax\u001b[0m\u001b[0;34m.\u001b[0m\u001b[0mjit\u001b[0m\u001b[0;34m(\u001b[0m\u001b[0mpython_control_flow\u001b[0m\u001b[0;34m)\u001b[0m\u001b[0;34m\u001b[0m\u001b[0;34m\u001b[0m\u001b[0m\n\u001b[1;32m      7\u001b[0m \u001b[0;34m\u001b[0m\u001b[0m\n\u001b[0;32m----> 8\u001b[0;31m \u001b[0mprint\u001b[0m\u001b[0;34m(\u001b[0m\u001b[0mpython_control_flow_jit\u001b[0m\u001b[0;34m(\u001b[0m\u001b[0;36m1\u001b[0m\u001b[0;34m)\u001b[0m\u001b[0;34m)\u001b[0m\u001b[0;34m\u001b[0m\u001b[0;34m\u001b[0m\u001b[0m\n\u001b[0m\u001b[1;32m      9\u001b[0m \u001b[0mprint\u001b[0m\u001b[0;34m(\u001b[0m\u001b[0mpython_control_flow_jit\u001b[0m\u001b[0;34m(\u001b[0m\u001b[0;36m2\u001b[0m\u001b[0;34m)\u001b[0m\u001b[0;34m)\u001b[0m\u001b[0;34m\u001b[0m\u001b[0;34m\u001b[0m\u001b[0m\n",
                        "    \u001b[0;31m[... skipping hidden 11 frame]\u001b[0m\n",
                        "\u001b[0;32m<ipython-input-9-92ad3ab87490>\u001b[0m in \u001b[0;36mpython_control_flow\u001b[0;34m(x)\u001b[0m\n\u001b[1;32m      1\u001b[0m \u001b[0;32mdef\u001b[0m \u001b[0mpython_control_flow\u001b[0m\u001b[0;34m(\u001b[0m\u001b[0mx\u001b[0m\u001b[0;34m)\u001b[0m\u001b[0;34m:\u001b[0m\u001b[0;34m\u001b[0m\u001b[0;34m\u001b[0m\u001b[0m\n\u001b[0;32m----> 2\u001b[0;31m   \u001b[0;32mif\u001b[0m \u001b[0mx\u001b[0m \u001b[0;34m%\u001b[0m \u001b[0;36m2\u001b[0m \u001b[0;34m==\u001b[0m \u001b[0;36m0\u001b[0m\u001b[0;34m:\u001b[0m\u001b[0;34m\u001b[0m\u001b[0;34m\u001b[0m\u001b[0m\n\u001b[0m\u001b[1;32m      3\u001b[0m     \u001b[0;32mreturn\u001b[0m \u001b[0mx\u001b[0m\u001b[0;34m\u001b[0m\u001b[0;34m\u001b[0m\u001b[0m\n\u001b[1;32m      4\u001b[0m   \u001b[0;32mreturn\u001b[0m \u001b[0mx\u001b[0m \u001b[0;34m+\u001b[0m \u001b[0;36m1\u001b[0m\u001b[0;34m\u001b[0m\u001b[0;34m\u001b[0m\u001b[0m\n\u001b[1;32m      5\u001b[0m \u001b[0;34m\u001b[0m\u001b[0m\n",
                        "    \u001b[0;31m[... skipping hidden 1 frame]\u001b[0m\n",
                        "\u001b[0;32m/usr/local/lib/python3.10/dist-packages/jax/_src/core.py\u001b[0m in \u001b[0;36merror\u001b[0;34m(self, arg)\u001b[0m\n\u001b[1;32m   1490\u001b[0m   \u001b[0;32mif\u001b[0m \u001b[0mfun\u001b[0m \u001b[0;32mis\u001b[0m \u001b[0mbool\u001b[0m\u001b[0;34m:\u001b[0m\u001b[0;34m\u001b[0m\u001b[0;34m\u001b[0m\u001b[0m\n\u001b[1;32m   1491\u001b[0m     \u001b[0;32mdef\u001b[0m \u001b[0merror\u001b[0m\u001b[0;34m(\u001b[0m\u001b[0mself\u001b[0m\u001b[0;34m,\u001b[0m \u001b[0marg\u001b[0m\u001b[0;34m)\u001b[0m\u001b[0;34m:\u001b[0m\u001b[0;34m\u001b[0m\u001b[0;34m\u001b[0m\u001b[0m\n\u001b[0;32m-> 1492\u001b[0;31m       \u001b[0;32mraise\u001b[0m \u001b[0mTracerBoolConversionError\u001b[0m\u001b[0;34m(\u001b[0m\u001b[0marg\u001b[0m\u001b[0;34m)\u001b[0m\u001b[0;34m\u001b[0m\u001b[0;34m\u001b[0m\u001b[0m\n\u001b[0m\u001b[1;32m   1493\u001b[0m   \u001b[0;32melif\u001b[0m \u001b[0mfun\u001b[0m \u001b[0;32min\u001b[0m \u001b[0;34m(\u001b[0m\u001b[0mhex\u001b[0m\u001b[0;34m,\u001b[0m \u001b[0moct\u001b[0m\u001b[0;34m,\u001b[0m \u001b[0moperator\u001b[0m\u001b[0;34m.\u001b[0m\u001b[0mindex\u001b[0m\u001b[0;34m)\u001b[0m\u001b[0;34m:\u001b[0m\u001b[0;34m\u001b[0m\u001b[0;34m\u001b[0m\u001b[0m\n\u001b[1;32m   1494\u001b[0m     \u001b[0;32mdef\u001b[0m \u001b[0merror\u001b[0m\u001b[0;34m(\u001b[0m\u001b[0mself\u001b[0m\u001b[0;34m,\u001b[0m \u001b[0marg\u001b[0m\u001b[0;34m)\u001b[0m\u001b[0;34m:\u001b[0m\u001b[0;34m\u001b[0m\u001b[0;34m\u001b[0m\u001b[0m\n",
                        "\u001b[0;31mTracerBoolConversionError\u001b[0m: Attempted boolean conversion of traced array with shape bool[]..\nThe error occurred while tracing the function python_control_flow at <ipython-input-9-92ad3ab87490>:1 for jit. This concrete value was not available in Python because it depends on the value of the argument x.\nSee https://jax.readthedocs.io/en/latest/errors.html#jax.errors.TracerBoolConversionError"
                    ]
                }
            ],
            "source": [
                "def python_control_flow(x):\n",
                "  if x % 2:\n",
                "    return x\n",
                "  return x + 1\n",
                "\n",
                "python_control_flow_jit = jax.jit(python_control_flow)\n",
                "\n",
                "python_control_flow_jit(1)"
            ]
        },
        {
            "cell_type": "markdown",
            "metadata": {},
            "source": [
                "But this logically-equivalent use of the `jax.lax` control-flow function succeeds:"
            ]
        },
        {
            "cell_type": "code",
            "execution_count": null,
            "metadata": {
                "colab": {
                    "base_uri": "https://localhost:8080/"
                },
                "id": "s-s7_V8pZREi",
                "outputId": "1bd21a18-5eca-45f8-d772-9e8ff346fe76"
            },
            "outputs": [
                {
                    "data": {
                        "text/plain": [
                            "Array(1, dtype=int32, weak_type=True)"
                        ]
                    },
                    "execution_count": 10,
                    "metadata": {},
                    "output_type": "execute_result"
                }
            ],
            "source": [
                "def jax_control_flow(x):\n",
                "  return jax.lax.select(x % 2, x, x + 1)\n",
                "\n",
                "jax_control_flow_jit = jax.jit(jax_control_flow)\n",
                "jax_control_flow_jit(1)"
            ]
        },
        {
            "cell_type": "markdown",
            "metadata": {
                "id": "8THU8cOx7sgp"
            },
            "source": [
                "## Static arguments\n",
                "\n",
                "In JAX, a static argument to a function is one that will not change after the function has been compiled. That is, calling the function with a different value of a static argument will trigger recompilation.\n",
                "\n",
                "Python control-flow on static arguments is allowed, but you should only do this if the argument is some sort of hyperparameter or configuration argument that doesn't change throughout a training, because compilation is slow."
            ]
        },
        {
            "cell_type": "code",
            "execution_count": null,
            "metadata": {
                "colab": {
                    "base_uri": "https://localhost:8080/"
                },
                "id": "j0rHqvsF9E_k",
                "outputId": "3d591929-23f9-46e7-f236-464096dbe628"
            },
            "outputs": [
                {
                    "name": "stdout",
                    "output_type": "stream",
                    "text": [
                        "identity: True\n",
                        "1\n",
                        "2\n",
                        "identity: False\n",
                        "2\n",
                        "3\n"
                    ]
                }
            ],
            "source": [
                "def python_control_flow_with_static(x: jax.Array, identity: bool) -> jax.Array:\n",
                "  print(\"identity:\", identity)\n",
                "  if identity:\n",
                "    return x\n",
                "  return x + 1\n",
                "\n",
                "python_control_flow_with_static_jit = jax.jit(python_control_flow_with_static, static_argnums=(1,))\n",
                "print(python_control_flow_with_static_jit(1, True))\n",
                "print(python_control_flow_with_static_jit(2, True))\n",
                "print(python_control_flow_with_static_jit(1, False))\n",
                "print(python_control_flow_with_static_jit(2, False))"
            ]
        },
        {
            "cell_type": "markdown",
            "metadata": {
                "id": "CDh87aVDD2Db"
            },
            "source": [
                "You can also use static arguments for other things, e.g. callables. If you forget to do this, the error message can be a bit mystifying at first:"
            ]
        },
        {
            "cell_type": "code",
            "execution_count": null,
            "metadata": {
                "colab": {
                    "base_uri": "https://localhost:8080/",
                    "height": 341
                },
                "id": "xOSn-406D6yi",
                "outputId": "ad96e569-ca59-445e-cc42-1aa5887650cb"
            },
            "outputs": [
                {
                    "ename": "TypeError",
                    "evalue": "Cannot interpret value of type <class 'jax._src.custom_derivatives.custom_jvp'> as an abstract array; it does not have a dtype attribute",
                    "output_type": "error",
                    "traceback": [
                        "\u001b[0;31m---------------------------------------------------------------------------\u001b[0m",
                        "\u001b[0;31mTypeError\u001b[0m                                 Traceback (most recent call last)",
                        "\u001b[0;32m<ipython-input-15-0ed9ab30caa5>\u001b[0m in \u001b[0;36m<cell line: 4>\u001b[0;34m()\u001b[0m\n\u001b[1;32m      2\u001b[0m   \u001b[0;32mreturn\u001b[0m \u001b[0mfn\u001b[0m\u001b[0;34m(\u001b[0m\u001b[0mx\u001b[0m\u001b[0;34m)\u001b[0m\u001b[0;34m\u001b[0m\u001b[0;34m\u001b[0m\u001b[0m\n\u001b[1;32m      3\u001b[0m \u001b[0;34m\u001b[0m\u001b[0m\n\u001b[0;32m----> 4\u001b[0;31m \u001b[0mapply_to_jit\u001b[0m \u001b[0;34m=\u001b[0m \u001b[0mjax\u001b[0m\u001b[0;34m.\u001b[0m\u001b[0mjit\u001b[0m\u001b[0;34m(\u001b[0m\u001b[0mapply_to\u001b[0m\u001b[0;34m)\u001b[0m\u001b[0;34m(\u001b[0m\u001b[0mjax\u001b[0m\u001b[0;34m.\u001b[0m\u001b[0mnn\u001b[0m\u001b[0;34m.\u001b[0m\u001b[0mrelu\u001b[0m\u001b[0;34m,\u001b[0m \u001b[0mjnp\u001b[0m\u001b[0;34m.\u001b[0m\u001b[0marray\u001b[0m\u001b[0;34m(\u001b[0m\u001b[0;34m[\u001b[0m\u001b[0;34m-\u001b[0m\u001b[0;36m1\u001b[0m\u001b[0;34m,\u001b[0m \u001b[0;36m0\u001b[0m\u001b[0;34m,\u001b[0m \u001b[0;36m1\u001b[0m\u001b[0;34m]\u001b[0m\u001b[0;34m)\u001b[0m\u001b[0;34m)\u001b[0m\u001b[0;34m\u001b[0m\u001b[0;34m\u001b[0m\u001b[0m\n\u001b[0m",
                        "    \u001b[0;31m[... skipping hidden 5 frame]\u001b[0m\n",
                        "\u001b[0;32m/usr/local/lib/python3.10/dist-packages/jax/_src/api_util.py\u001b[0m in \u001b[0;36m_shaped_abstractify_slow\u001b[0;34m(x)\u001b[0m\n\u001b[1;32m    586\u001b[0m     \u001b[0mdtype\u001b[0m \u001b[0;34m=\u001b[0m \u001b[0mdtypes\u001b[0m\u001b[0;34m.\u001b[0m\u001b[0mcanonicalize_dtype\u001b[0m\u001b[0;34m(\u001b[0m\u001b[0mx\u001b[0m\u001b[0;34m.\u001b[0m\u001b[0mdtype\u001b[0m\u001b[0;34m,\u001b[0m \u001b[0mallow_extended_dtype\u001b[0m\u001b[0;34m=\u001b[0m\u001b[0;32mTrue\u001b[0m\u001b[0;34m)\u001b[0m\u001b[0;34m\u001b[0m\u001b[0;34m\u001b[0m\u001b[0m\n\u001b[1;32m    587\u001b[0m   \u001b[0;32melse\u001b[0m\u001b[0;34m:\u001b[0m\u001b[0;34m\u001b[0m\u001b[0;34m\u001b[0m\u001b[0m\n\u001b[0;32m--> 588\u001b[0;31m     raise TypeError(\n\u001b[0m\u001b[1;32m    589\u001b[0m         \u001b[0;34mf\"Cannot interpret value of type {type(x)} as an abstract array; it \"\u001b[0m\u001b[0;34m\u001b[0m\u001b[0;34m\u001b[0m\u001b[0m\n\u001b[1;32m    590\u001b[0m         \"does not have a dtype attribute\")\n",
                        "\u001b[0;31mTypeError\u001b[0m: Cannot interpret value of type <class 'jax._src.custom_derivatives.custom_jvp'> as an abstract array; it does not have a dtype attribute"
                    ]
                }
            ],
            "source": [
                "def apply_to(fn, x):\n",
                "  return fn(x)\n",
                "\n",
                "jax.jit(apply_to)(jax.nn.relu, jnp.array([-1, 0, 1]))\n"
            ]
        },
        {
            "cell_type": "markdown",
            "metadata": {
                "id": "8WIY-58IEhrZ"
            },
            "source": [
                "The fix is to set the callable argument as static:"
            ]
        },
        {
            "cell_type": "code",
            "execution_count": null,
            "metadata": {
                "colab": {
                    "base_uri": "https://localhost:8080/"
                },
                "id": "hyN2phO-EMnu",
                "outputId": "4b103d75-978f-4d0b-89b2-409afcd9bcc2"
            },
            "outputs": [
                {
                    "data": {
                        "text/plain": [
                            "Array([0, 0, 1], dtype=int32)"
                        ]
                    },
                    "execution_count": 17,
                    "metadata": {},
                    "output_type": "execute_result"
                }
            ],
            "source": [
                "jax.jit(apply_to, static_argnums=(0,))(jax.nn.relu, jnp.array([-1, 0, 1]))\n"
            ]
        },
        {
            "cell_type": "markdown",
            "metadata": {
                "id": "rVsfADPHKWWK"
            },
            "source": [
                "## Closures\n",
                "\n",
                "Loosely speaking, a closure is a combination of a function and all of the things it references. Let's take a look at our example from above again:"
            ]
        },
        {
            "cell_type": "code",
            "execution_count": null,
            "metadata": {
                "id": "8nxEZqe6KVua"
            },
            "outputs": [],
            "source": [
                "w = 12.0\n",
                "\n",
                "def my_func(x: jax.Array, y: jax.Array):\n",
                "  print(f\"calling my_func({x, y}) with w = {w}\")\n",
                "  return x + w * y\n",
                "\n",
                "my_func_jit = jax.jit(my_func)\n",
                "my_func_jit(jnp.ones(2,), 2*jnp.ones(2,))"
            ]
        },
        {
            "cell_type": "markdown",
            "metadata": {
                "id": "keJT8wUrKm4W"
            },
            "source": [
                "In this case the closure of `my_func` includes `w`. After tracing, variables like `w` that are not arguments to the function are baked-in to the compiled function and changing them has no effect on an already compiled function. For example:"
            ]
        },
        {
            "cell_type": "code",
            "execution_count": null,
            "metadata": {
                "colab": {
                    "base_uri": "https://localhost:8080/"
                },
                "id": "BalzsogyLCDZ",
                "outputId": "99710ac2-c98c-45e7-99e5-919f26b3611c"
            },
            "outputs": [
                {
                    "data": {
                        "text/plain": [
                            "Array([25., 25.], dtype=float32)"
                        ]
                    },
                    "execution_count": 18,
                    "metadata": {},
                    "output_type": "execute_result"
                }
            ],
            "source": [
                "w = 3.0\n",
                "my_func_jit(jnp.ones(2,), 2*jnp.ones(2,))"
            ]
        },
        {
            "cell_type": "markdown",
            "metadata": {
                "id": "kE7iPKPNLkWG"
            },
            "source": [
                "If we compile again, though we can see the new value of `w` is picked up. We can force recompilation by passing in different shapes or dtypes for the arguments."
            ]
        },
        {
            "cell_type": "code",
            "execution_count": null,
            "metadata": {
                "colab": {
                    "base_uri": "https://localhost:8080/"
                },
                "id": "D5-MXctWLu-8",
                "outputId": "b6b58bf4-bf40-4124-dc1a-0705962d8ee9"
            },
            "outputs": [
                {
                    "name": "stdout",
                    "output_type": "stream",
                    "text": [
                        "calling my_func((Traced<ShapedArray(float32[3])>with<DynamicJaxprTrace(level=1/0)>, Traced<ShapedArray(float32[3])>with<DynamicJaxprTrace(level=1/0)>)) with w = 3.0\n"
                    ]
                },
                {
                    "data": {
                        "text/plain": [
                            "Array([7., 7., 7.], dtype=float32)"
                        ]
                    },
                    "execution_count": 22,
                    "metadata": {},
                    "output_type": "execute_result"
                }
            ],
            "source": [
                "my_func_jit_again = jax.jit(my_func)\n",
                "my_func_jit_again(jnp.ones(3,), 2*jnp.ones(3,))"
            ]
        },
        {
            "cell_type": "markdown",
            "metadata": {
                "id": "haeiH_tsN_nK"
            },
            "source": [
                "## Pytrees\n",
                "\n",
                "JAX uses the term \"pytree\" to refer to a tree-like structure built out of container-like Python objects. Basically any Python object is in theory a valid pytree as long as it doesn't contain reference cycles.\n",
                "\n",
                "Python classes have to be registered in order to be treated as pytrees, but the built-in container types (lists, dicts, tuples) are all preregistered.\n",
                "\n",
                "JAX functions that take arrays typically also work with pytrees as well, in sort of magical ways that are very powerful.\n",
                "\n",
                "For example automatic vectorization via [jax.vmap](https://jax.readthedocs.io/en/latest/_autosummary/jax.vmap.html) works: if we vmap a function that returns a pytree, the return value of the vmapped function will have the same tree structure, but the array leaves will have the same dimension as the input."
            ]
        },
        {
            "cell_type": "code",
            "execution_count": null,
            "metadata": {
                "colab": {
                    "base_uri": "https://localhost:8080/"
                },
                "id": "RI-d1UqUPOHp",
                "outputId": "33b89c7c-7fb9-4184-a9ff-9148bc6724d9"
            },
            "outputs": [
                {
                    "data": {
                        "text/plain": [
                            "{'cos': Array([0.87758255, 0.5403023 ], dtype=float32),\n",
                            " 'sin': Array([0.47942555, 0.84147096], dtype=float32)}"
                        ]
                    },
                    "execution_count": 14,
                    "metadata": {},
                    "output_type": "execute_result"
                }
            ],
            "source": [
                "def return_dict(x):\n",
                "  assert x.shape == (), \"Only scalars supported\"\n",
                "  return {\"sin\": jnp.sin(x), \"cos\": jnp.cos(x)}\n",
                "\n",
                "return_dict_vmap = jax.vmap(return_dict)\n",
                "\n",
                "return_dict_vmap(jnp.array([0.5, 1.0]))"
            ]
        },
        {
            "cell_type": "markdown",
            "metadata": {
                "id": "NZfMpTlFPfBS"
            },
            "source": [
                "## Equinox\n",
                "\n",
                "Equinox is a neural network library for JAX. It mainly consits of:\n",
                "\n",
                "* A `Module` base class that is a pytree and behaves like a [dataclass](https://docs.python.org/3/library/dataclasses.html).\n",
                "* Some common neural network layers (e.g. linear, convolutional, attention) and helpers (e.g. Sequential).\n",
                "* Some helper functions for manipulating pytrees.\n",
                "* Some wrappers to make it easier to use jax transformations (`jax.jit`, `jax.grad`, etc) with Modules or other pytrees.\n",
                "\n",
                "[Equinox's own documentation](https://docs.kidger.site/equinox/all-of-equinox/) is pretty good, but let me take a stab at explaining the main value that equinox provides.\n",
                "\n",
                "JAX's transformations (e.g. `jit`, `grad`) work on Arrays or pytrees whose leaves are Arrays. Equinox Module's typically hold a mix of Arrays and other objects at their leaves (e.g. a reference to a callable function like `jax.nn.relu`). If you pass a pytree with a non-array leaf into such a transformation, jax will complain. Equinox lets you keep your arrays and computation together in one pytree (Module), and provides tools to let you mark all of the non-Array parts of the Module as static before passing it in to a transformation like `jit`."
            ]
        },
        {
            "cell_type": "markdown",
            "metadata": {
                "id": "2FcvOp_7QTFg"
            },
            "source": [
                "That's it for now! Let me know if you have questions or corrections."
            ]
        }
    ],
    "metadata": {
        "colab": {
            "authorship_tag": "ABX9TyNdTuaWUgN8DI5RmslkhnBt",
            "include_colab_link": true,
            "provenance": []
        },
        "kernelspec": {
            "display_name": "Python 3",
            "name": "python3"
        },
        "language_info": {
            "name": "python"
        }
    },
    "nbformat": 4,
    "nbformat_minor": 0
}
